{
 "cells": [
  {
   "cell_type": "markdown",
   "id": "d823f7d8",
   "metadata": {},
   "source": [
    "# The Sparks Foundation - GRIP : Prediction using Supervised Learning"
   ]
  },
  {
   "cell_type": "markdown",
   "id": "925dd1f0",
   "metadata": {},
   "source": [
    "# Author : Kumari Pritika"
   ]
  },
  {
   "cell_type": "markdown",
   "id": "1b419fab",
   "metadata": {},
   "source": [
    "## Task-1 :- Predict the percentage of marks that a student is expected to score based upon the number of hours they studied"
   ]
  },
  {
   "cell_type": "markdown",
   "id": "bb8a8d60",
   "metadata": {},
   "source": [
    "### Dataset can be found from \" http://bit.ly/w-data \""
   ]
  },
  {
   "cell_type": "markdown",
   "id": "e3ab3f95",
   "metadata": {},
   "source": [
    "### In this notebook i am going to build a simple linear regression model to predict marks scored by a student using no of Hours that he studies as a predictor variable."
   ]
  },
  {
   "cell_type": "markdown",
   "id": "2766cb65",
   "metadata": {},
   "source": [
    "# Step1: Reading and Understanding Data "
   ]
  },
  {
   "cell_type": "code",
   "execution_count": 1,
   "id": "96f589f1",
   "metadata": {},
   "outputs": [],
   "source": [
    "# importing libraries\n",
    "import numpy as np\n",
    "import pandas as pd \n",
    "import matplotlib.pyplot as plt\n",
    "import seaborn as sns\n",
    "import sklearn\n",
    "from sklearn.model_selection import train_test_split\n",
    "from sklearn.linear_model import LinearRegression\n",
    "from sklearn.metrics import r2_score\n",
    "from sklearn.metrics import mean_squared_error"
   ]
  },
  {
   "cell_type": "code",
   "execution_count": 2,
   "id": "fad4e333",
   "metadata": {},
   "outputs": [],
   "source": [
    "# reading the data\n",
    "df = pd.read_csv('student_scores.csv')"
   ]
  },
  {
   "cell_type": "code",
   "execution_count": 3,
   "id": "0bf931ee",
   "metadata": {},
   "outputs": [
    {
     "data": {
      "text/html": [
       "<div>\n",
       "<style scoped>\n",
       "    .dataframe tbody tr th:only-of-type {\n",
       "        vertical-align: middle;\n",
       "    }\n",
       "\n",
       "    .dataframe tbody tr th {\n",
       "        vertical-align: top;\n",
       "    }\n",
       "\n",
       "    .dataframe thead th {\n",
       "        text-align: right;\n",
       "    }\n",
       "</style>\n",
       "<table border=\"1\" class=\"dataframe\">\n",
       "  <thead>\n",
       "    <tr style=\"text-align: right;\">\n",
       "      <th></th>\n",
       "      <th>Hours</th>\n",
       "      <th>Scores</th>\n",
       "    </tr>\n",
       "  </thead>\n",
       "  <tbody>\n",
       "    <tr>\n",
       "      <th>0</th>\n",
       "      <td>2.5</td>\n",
       "      <td>21</td>\n",
       "    </tr>\n",
       "    <tr>\n",
       "      <th>1</th>\n",
       "      <td>5.1</td>\n",
       "      <td>47</td>\n",
       "    </tr>\n",
       "    <tr>\n",
       "      <th>2</th>\n",
       "      <td>3.2</td>\n",
       "      <td>27</td>\n",
       "    </tr>\n",
       "    <tr>\n",
       "      <th>3</th>\n",
       "      <td>8.5</td>\n",
       "      <td>75</td>\n",
       "    </tr>\n",
       "    <tr>\n",
       "      <th>4</th>\n",
       "      <td>3.5</td>\n",
       "      <td>30</td>\n",
       "    </tr>\n",
       "  </tbody>\n",
       "</table>\n",
       "</div>"
      ],
      "text/plain": [
       "   Hours  Scores\n",
       "0    2.5      21\n",
       "1    5.1      47\n",
       "2    3.2      27\n",
       "3    8.5      75\n",
       "4    3.5      30"
      ]
     },
     "execution_count": 3,
     "metadata": {},
     "output_type": "execute_result"
    }
   ],
   "source": [
    "df.head()"
   ]
  },
  {
   "cell_type": "code",
   "execution_count": 4,
   "id": "513b971b",
   "metadata": {},
   "outputs": [
    {
     "data": {
      "text/plain": [
       "(25, 2)"
      ]
     },
     "execution_count": 4,
     "metadata": {},
     "output_type": "execute_result"
    }
   ],
   "source": [
    "df.shape"
   ]
  },
  {
   "cell_type": "code",
   "execution_count": 5,
   "id": "8ee2c9cf",
   "metadata": {},
   "outputs": [
    {
     "name": "stdout",
     "output_type": "stream",
     "text": [
      "<class 'pandas.core.frame.DataFrame'>\n",
      "RangeIndex: 25 entries, 0 to 24\n",
      "Data columns (total 2 columns):\n",
      " #   Column  Non-Null Count  Dtype  \n",
      "---  ------  --------------  -----  \n",
      " 0   Hours   25 non-null     float64\n",
      " 1   Scores  25 non-null     int64  \n",
      "dtypes: float64(1), int64(1)\n",
      "memory usage: 528.0 bytes\n"
     ]
    }
   ],
   "source": [
    "df.info()"
   ]
  },
  {
   "cell_type": "code",
   "execution_count": 6,
   "id": "246fcd56",
   "metadata": {},
   "outputs": [
    {
     "data": {
      "text/html": [
       "<div>\n",
       "<style scoped>\n",
       "    .dataframe tbody tr th:only-of-type {\n",
       "        vertical-align: middle;\n",
       "    }\n",
       "\n",
       "    .dataframe tbody tr th {\n",
       "        vertical-align: top;\n",
       "    }\n",
       "\n",
       "    .dataframe thead th {\n",
       "        text-align: right;\n",
       "    }\n",
       "</style>\n",
       "<table border=\"1\" class=\"dataframe\">\n",
       "  <thead>\n",
       "    <tr style=\"text-align: right;\">\n",
       "      <th></th>\n",
       "      <th>Hours</th>\n",
       "      <th>Scores</th>\n",
       "    </tr>\n",
       "  </thead>\n",
       "  <tbody>\n",
       "    <tr>\n",
       "      <th>count</th>\n",
       "      <td>25.000000</td>\n",
       "      <td>25.000000</td>\n",
       "    </tr>\n",
       "    <tr>\n",
       "      <th>mean</th>\n",
       "      <td>5.012000</td>\n",
       "      <td>51.480000</td>\n",
       "    </tr>\n",
       "    <tr>\n",
       "      <th>std</th>\n",
       "      <td>2.525094</td>\n",
       "      <td>25.286887</td>\n",
       "    </tr>\n",
       "    <tr>\n",
       "      <th>min</th>\n",
       "      <td>1.100000</td>\n",
       "      <td>17.000000</td>\n",
       "    </tr>\n",
       "    <tr>\n",
       "      <th>25%</th>\n",
       "      <td>2.700000</td>\n",
       "      <td>30.000000</td>\n",
       "    </tr>\n",
       "    <tr>\n",
       "      <th>50%</th>\n",
       "      <td>4.800000</td>\n",
       "      <td>47.000000</td>\n",
       "    </tr>\n",
       "    <tr>\n",
       "      <th>75%</th>\n",
       "      <td>7.400000</td>\n",
       "      <td>75.000000</td>\n",
       "    </tr>\n",
       "    <tr>\n",
       "      <th>max</th>\n",
       "      <td>9.200000</td>\n",
       "      <td>95.000000</td>\n",
       "    </tr>\n",
       "  </tbody>\n",
       "</table>\n",
       "</div>"
      ],
      "text/plain": [
       "           Hours     Scores\n",
       "count  25.000000  25.000000\n",
       "mean    5.012000  51.480000\n",
       "std     2.525094  25.286887\n",
       "min     1.100000  17.000000\n",
       "25%     2.700000  30.000000\n",
       "50%     4.800000  47.000000\n",
       "75%     7.400000  75.000000\n",
       "max     9.200000  95.000000"
      ]
     },
     "execution_count": 6,
     "metadata": {},
     "output_type": "execute_result"
    }
   ],
   "source": [
    "df.describe()"
   ]
  },
  {
   "cell_type": "markdown",
   "id": "e9f2c1bb",
   "metadata": {},
   "source": [
    "# Step2 : Visuallising the Data"
   ]
  },
  {
   "cell_type": "code",
   "execution_count": 7,
   "id": "c4b449dd",
   "metadata": {},
   "outputs": [
    {
     "data": {
      "image/png": "[encoded data removed]",
      "text/plain": [
       "<Figure size 432x288 with 1 Axes>"
      ]
     },
     "metadata": {
      "needs_background": "light"
     },
     "output_type": "display_data"
    }
   ],
   "source": [
    "#ploting the data\n",
    "plt.scatter(x = 'Hours',y = 'Scores' ,data = df)\n",
    "plt.title('Hours vs Percentage')\n",
    "plt.xlabel('Hours')\n",
    "plt.ylabel('Scores')\n",
    "plt.show()"
   ]
  },
  {
   "cell_type": "markdown",
   "id": "a0f37533",
   "metadata": {},
   "source": [
    "# Step3: Performing Simple Linear Regression"
   ]
  },
  {
   "cell_type": "code",
   "execution_count": 8,
   "id": "586a35e2",
   "metadata": {},
   "outputs": [
    {
     "data": {
      "text/plain": [
       "0    2.5\n",
       "1    5.1\n",
       "2    3.2\n",
       "3    8.5\n",
       "4    3.5\n",
       "Name: Hours, dtype: float64"
      ]
     },
     "execution_count": 8,
     "metadata": {},
     "output_type": "execute_result"
    }
   ],
   "source": [
    "X = df['Hours']\n",
    "X.head()"
   ]
  },
  {
   "cell_type": "code",
   "execution_count": 9,
   "id": "65a86918",
   "metadata": {},
   "outputs": [
    {
     "data": {
      "text/plain": [
       "0    21\n",
       "1    47\n",
       "2    27\n",
       "3    75\n",
       "4    30\n",
       "Name: Scores, dtype: int64"
      ]
     },
     "execution_count": 9,
     "metadata": {},
     "output_type": "execute_result"
    }
   ],
   "source": [
    "y = df['Scores']\n",
    "y.head()"
   ]
  },
  {
   "cell_type": "markdown",
   "id": "2bb44a53",
   "metadata": {},
   "source": [
    "### Splitting the data set into Training and Test sets"
   ]
  },
  {
   "cell_type": "code",
   "execution_count": 10,
   "id": "56e31946",
   "metadata": {},
   "outputs": [],
   "source": [
    "X_train , X_test , y_train , y_test = train_test_split(X, y, train_size = 0.70, random_state = 100)"
   ]
  },
  {
   "cell_type": "code",
   "execution_count": 11,
   "id": "3ad443f8",
   "metadata": {},
   "outputs": [
    {
     "data": {
      "text/plain": [
       "(17,)"
      ]
     },
     "execution_count": 11,
     "metadata": {},
     "output_type": "execute_result"
    }
   ],
   "source": [
    "X_train.shape"
   ]
  },
  {
   "cell_type": "code",
   "execution_count": 12,
   "id": "4a1633e3",
   "metadata": {},
   "outputs": [
    {
     "data": {
      "text/plain": [
       "(17, 1)"
      ]
     },
     "execution_count": 12,
     "metadata": {},
     "output_type": "execute_result"
    }
   ],
   "source": [
    "X_train = X_train.values.reshape(-1,1)\n",
    "X_train.shape"
   ]
  },
  {
   "cell_type": "markdown",
   "id": "717b761b",
   "metadata": {},
   "source": [
    "### Building the Linear Regression Model for Training Set"
   ]
  },
  {
   "cell_type": "code",
   "execution_count": 13,
   "id": "148980dc",
   "metadata": {},
   "outputs": [],
   "source": [
    "reg_model = LinearRegression()"
   ]
  },
  {
   "cell_type": "code",
   "execution_count": 14,
   "id": "0fbf7a74",
   "metadata": {},
   "outputs": [
    {
     "data": {
      "text/plain": [
       "LinearRegression()"
      ]
     },
     "execution_count": 14,
     "metadata": {},
     "output_type": "execute_result"
    }
   ],
   "source": [
    "reg_model.fit(X_train,y_train)"
   ]
  },
  {
   "cell_type": "code",
   "execution_count": 15,
   "id": "9908fdba",
   "metadata": {},
   "outputs": [
    {
     "name": "stdout",
     "output_type": "stream",
     "text": [
      "Slope is  [9.87171443]\n"
     ]
    }
   ],
   "source": [
    "m = reg_model.coef_\n",
    "print('Slope is ',m)"
   ]
  },
  {
   "cell_type": "code",
   "execution_count": 16,
   "id": "4545a958",
   "metadata": {},
   "outputs": [
    {
     "name": "stdout",
     "output_type": "stream",
     "text": [
      "Intercept is 1.495142109236383\n"
     ]
    }
   ],
   "source": [
    "c = reg_model.intercept_\n",
    "print('Intercept is',c)"
   ]
  },
  {
   "cell_type": "markdown",
   "id": "d3679345",
   "metadata": {},
   "source": [
    "## The Linear Regression Model is\n",
    "##                    Scores = 9.87171443*Hours + 1.495142109236383     "
   ]
  },
  {
   "cell_type": "markdown",
   "id": "b981c325",
   "metadata": {},
   "source": [
    "### Prediction on Training set "
   ]
  },
  {
   "cell_type": "code",
   "execution_count": 17,
   "id": "8bfc61d7",
   "metadata": {},
   "outputs": [
    {
     "data": {
      "text/plain": [
       "array([92.31491485, 45.91785704, 36.04614261, 78.49451465, 26.17442818,\n",
       "       51.84088569, 28.14877107, 12.35402798, 20.25139952, 61.71260012,\n",
       "       33.08462828, 77.50734321, 26.17442818, 89.35340052, 55.78957147,\n",
       "       85.40471475, 83.43037187])"
      ]
     },
     "execution_count": 17,
     "metadata": {},
     "output_type": "execute_result"
    }
   ],
   "source": [
    "y_train_pred= reg_model.predict(X_train)\n",
    "y_train_pred"
   ]
  },
  {
   "cell_type": "code",
   "execution_count": 18,
   "id": "8d98d1f1",
   "metadata": {},
   "outputs": [
    {
     "data": {
      "image/png": "[encoded data removed]",
      "text/plain": [
       "<Figure size 432x288 with 1 Axes>"
      ]
     },
     "metadata": {
      "needs_background": "light"
     },
     "output_type": "display_data"
    }
   ],
   "source": [
    "plt.scatter(X_train,y_train)\n",
    "plt.plot(X_train,y_train_pred,'r')\n",
    "plt.xlabel('Hours')\n",
    "plt.ylabel('Scores')\n",
    "plt.show()"
   ]
  },
  {
   "cell_type": "markdown",
   "id": "b83320fc",
   "metadata": {},
   "source": [
    "### Testing the Linear regression  Testing set"
   ]
  },
  {
   "cell_type": "code",
   "execution_count": 19,
   "id": "69bd0dff",
   "metadata": {},
   "outputs": [
    {
     "data": {
      "text/plain": [
       "(8,)"
      ]
     },
     "execution_count": 19,
     "metadata": {},
     "output_type": "execute_result"
    }
   ],
   "source": [
    "X_test.shape"
   ]
  },
  {
   "cell_type": "code",
   "execution_count": 20,
   "id": "2153e491",
   "metadata": {},
   "outputs": [],
   "source": [
    "X_test = X_test.values.reshape(-1,1)"
   ]
  },
  {
   "cell_type": "code",
   "execution_count": 21,
   "id": "9f9f726b",
   "metadata": {},
   "outputs": [
    {
     "data": {
      "text/plain": [
       "(8, 1)"
      ]
     },
     "execution_count": 21,
     "metadata": {},
     "output_type": "execute_result"
    }
   ],
   "source": [
    "X_test.shape"
   ]
  },
  {
   "cell_type": "code",
   "execution_count": 22,
   "id": "78b11f13",
   "metadata": {},
   "outputs": [
    {
     "data": {
      "text/plain": [
       "array([28.14877107, 39.00765694, 34.07179972, 59.73825724, 16.30271375,\n",
       "       74.54582888, 69.60997167, 48.87937137])"
      ]
     },
     "execution_count": 22,
     "metadata": {},
     "output_type": "execute_result"
    }
   ],
   "source": [
    "y_test_pred = reg_model.predict(X_test)\n",
    "y_test_pred"
   ]
  },
  {
   "cell_type": "code",
   "execution_count": 23,
   "id": "5865e96f",
   "metadata": {},
   "outputs": [
    {
     "data": {
      "image/png": "[encoded data removed]",
      "text/plain": [
       "<Figure size 432x288 with 1 Axes>"
      ]
     },
     "metadata": {
      "needs_background": "light"
     },
     "output_type": "display_data"
    }
   ],
   "source": [
    "plt.scatter(X_test,y_test)\n",
    "plt.plot(X_test,y_test_pred,'r')\n",
    "plt.xlabel('Hours')\n",
    "plt.ylabel('Scores')\n",
    "plt.show()"
   ]
  },
  {
   "cell_type": "markdown",
   "id": "e12d4bf6",
   "metadata": {},
   "source": [
    "# Step4 : Predicting Score using Linear Regression Model "
   ]
  },
  {
   "cell_type": "code",
   "execution_count": 24,
   "id": "34841ea1",
   "metadata": {},
   "outputs": [
    {
     "name": "stdout",
     "output_type": "stream",
     "text": [
      "Score obtained by the student who studies for 9.24 hr per day is 92.80850057353504\n"
     ]
    }
   ],
   "source": [
    "hour = [[9.25]]\n",
    "score = reg_model.predict(hour)\n",
    "print('Score obtained by the student who studies for 9.24 hr per day is',score[0])"
   ]
  },
  {
   "cell_type": "markdown",
   "id": "93171d93",
   "metadata": {},
   "source": [
    "## Hence the Predicted Score is 92.80850057353504"
   ]
  },
  {
   "cell_type": "markdown",
   "id": "240d8a9f",
   "metadata": {},
   "source": [
    "# Step5 : Evaluating the Model"
   ]
  },
  {
   "cell_type": "code",
   "execution_count": 25,
   "id": "5ccd4171",
   "metadata": {},
   "outputs": [
    {
     "name": "stdout",
     "output_type": "stream",
     "text": [
      "The R-Squared for training set is 0.9570735354094693\n"
     ]
    }
   ],
   "source": [
    "# rsquared on the training set\n",
    "r2_score_train = r2_score(y_true = y_train,y_pred = y_train_pred)\n",
    "print('The R-Squared for training set is',r2_score_train)"
   ]
  },
  {
   "cell_type": "code",
   "execution_count": 26,
   "id": "075e0ab7",
   "metadata": {},
   "outputs": [
    {
     "name": "stdout",
     "output_type": "stream",
     "text": [
      "The R-Squared for testing set is 0.9309458862687437\n"
     ]
    }
   ],
   "source": [
    "# rsquared on the test set\n",
    "r2_score_train = r2_score(y_true = y_test,y_pred = y_test_pred)\n",
    "print('The R-Squared for testing set is',r2_score_train)"
   ]
  },
  {
   "cell_type": "code",
   "execution_count": 27,
   "id": "0c010d5d",
   "metadata": {},
   "outputs": [
    {
     "name": "stdout",
     "output_type": "stream",
     "text": [
      "The Root Mean Squared Error is: 5.0673878451608445\n"
     ]
    }
   ],
   "source": [
    "print('The Root Mean Squared Error is:', np.sqrt(mean_squared_error(y_test, y_test_pred)))"
   ]
  },
  {
   "cell_type": "markdown",
   "id": "713cd3f3",
   "metadata": {},
   "source": [
    "# Thank You"
   ]
  }
 ],
 "metadata": {
  "kernelspec": {
   "display_name": "Python 3 (ipykernel)",
   "language": "python",
   "name": "python3"
  },
  "language_info": {
   "codemirror_mode": {
    "name": "ipython",
    "version": 3
   },
   "file_extension": ".py",
   "mimetype": "text/x-python",
   "name": "python",
   "nbconvert_exporter": "python",
   "pygments_lexer": "ipython3",
   "version": "3.9.6"
  }
 },
 "nbformat": 4,
 "nbformat_minor": 5
}
